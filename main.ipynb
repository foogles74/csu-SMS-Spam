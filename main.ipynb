{
 "cells": [
  {
   "metadata": {
    "ExecuteTime": {
     "end_time": "2024-12-26T07:02:57.703754Z",
     "start_time": "2024-12-26T07:02:55.102716Z"
    }
   },
   "cell_type": "code",
   "source": [
    "!pip install pandas\n",
    "!pip install scikit-learn"
   ],
   "id": "5a299c9497dab683",
   "outputs": [
    {
     "name": "stdout",
     "output_type": "stream",
     "text": [
      "Requirement already satisfied: pandas in c:\\users\\user\\appdata\\local\\programs\\python\\python312\\lib\\site-packages (2.2.3)\n",
      "Requirement already satisfied: numpy>=1.26.0 in c:\\users\\user\\appdata\\local\\programs\\python\\python312\\lib\\site-packages (from pandas) (1.26.0)\n",
      "Requirement already satisfied: python-dateutil>=2.8.2 in c:\\users\\user\\appdata\\roaming\\python\\python312\\site-packages (from pandas) (2.9.0.post0)\n",
      "Requirement already satisfied: pytz>=2020.1 in c:\\users\\user\\appdata\\local\\programs\\python\\python312\\lib\\site-packages (from pandas) (2024.2)\n",
      "Requirement already satisfied: tzdata>=2022.7 in c:\\users\\user\\appdata\\local\\programs\\python\\python312\\lib\\site-packages (from pandas) (2024.2)\n",
      "Requirement already satisfied: six>=1.5 in c:\\users\\user\\appdata\\local\\programs\\python\\python312\\lib\\site-packages (from python-dateutil>=2.8.2->pandas) (1.16.0)\n",
      "Requirement already satisfied: scikit-learn in c:\\users\\user\\appdata\\local\\programs\\python\\python312\\lib\\site-packages (1.5.2)\n",
      "Requirement already satisfied: numpy>=1.19.5 in c:\\users\\user\\appdata\\local\\programs\\python\\python312\\lib\\site-packages (from scikit-learn) (1.26.0)\n",
      "Requirement already satisfied: scipy>=1.6.0 in c:\\users\\user\\appdata\\local\\programs\\python\\python312\\lib\\site-packages (from scikit-learn) (1.14.1)\n",
      "Requirement already satisfied: joblib>=1.2.0 in c:\\users\\user\\appdata\\local\\programs\\python\\python312\\lib\\site-packages (from scikit-learn) (1.4.2)\n",
      "Requirement already satisfied: threadpoolctl>=3.1.0 in c:\\users\\user\\appdata\\local\\programs\\python\\python312\\lib\\site-packages (from scikit-learn) (3.5.0)\n"
     ]
    }
   ],
   "execution_count": 6
  },
  {
   "cell_type": "code",
   "id": "initial_id",
   "metadata": {
    "collapsed": true,
    "ExecuteTime": {
     "end_time": "2024-12-26T07:03:00.912455Z",
     "start_time": "2024-12-26T07:03:00.906925Z"
    }
   },
   "source": [
    "# Загрузка данных из файла\n",
    "file_path = './SMSSpamCollection'\n",
    "\n",
    "# Чтение данных\n",
    "with open(file_path, 'r', encoding='utf-8') as file:\n",
    "    data = file.readlines()\n"
   ],
   "outputs": [],
   "execution_count": 8
  },
  {
   "metadata": {
    "ExecuteTime": {
     "end_time": "2024-12-26T07:23:47.460478Z",
     "start_time": "2024-12-26T07:23:47.446198Z"
    }
   },
   "cell_type": "code",
   "source": [
    "import numpy as np\n",
    "import pandas as pd\n",
    "\n",
    "# Преобразование данных в DataFrame\n",
    "df = pd.DataFrame([line.strip().split('\\t') for line in data], columns=['label', 'message'])\n",
    "df.replace('ham', \"не спам\", inplace=True)\n",
    "df.replace('spam', \"спам\", inplace=True)\n",
    "df"
   ],
   "id": "9cdff70e938ceef6",
   "outputs": [
    {
     "data": {
      "text/plain": [
       "        label                                            message\n",
       "0     не спам  Go until jurong point, crazy.. Available only ...\n",
       "1     не спам                      Ok lar... Joking wif u oni...\n",
       "2        спам  Free entry in 2 a wkly comp to win FA Cup fina...\n",
       "3     не спам  U dun say so early hor... U c already then say...\n",
       "4     не спам  Nah I don't think he goes to usf, he lives aro...\n",
       "...       ...                                                ...\n",
       "5569     спам  This is the 2nd time we have tried 2 contact u...\n",
       "5570  не спам               Will ü b going to esplanade fr home?\n",
       "5571  не спам  Pity, * was in mood for that. So...any other s...\n",
       "5572  не спам  The guy did some bitching but I acted like i'd...\n",
       "5573  не спам                         Rofl. Its true to its name\n",
       "\n",
       "[5574 rows x 2 columns]"
      ],
      "text/html": [
       "<div>\n",
       "<style scoped>\n",
       "    .dataframe tbody tr th:only-of-type {\n",
       "        vertical-align: middle;\n",
       "    }\n",
       "\n",
       "    .dataframe tbody tr th {\n",
       "        vertical-align: top;\n",
       "    }\n",
       "\n",
       "    .dataframe thead th {\n",
       "        text-align: right;\n",
       "    }\n",
       "</style>\n",
       "<table border=\"1\" class=\"dataframe\">\n",
       "  <thead>\n",
       "    <tr style=\"text-align: right;\">\n",
       "      <th></th>\n",
       "      <th>label</th>\n",
       "      <th>message</th>\n",
       "    </tr>\n",
       "  </thead>\n",
       "  <tbody>\n",
       "    <tr>\n",
       "      <th>0</th>\n",
       "      <td>не спам</td>\n",
       "      <td>Go until jurong point, crazy.. Available only ...</td>\n",
       "    </tr>\n",
       "    <tr>\n",
       "      <th>1</th>\n",
       "      <td>не спам</td>\n",
       "      <td>Ok lar... Joking wif u oni...</td>\n",
       "    </tr>\n",
       "    <tr>\n",
       "      <th>2</th>\n",
       "      <td>спам</td>\n",
       "      <td>Free entry in 2 a wkly comp to win FA Cup fina...</td>\n",
       "    </tr>\n",
       "    <tr>\n",
       "      <th>3</th>\n",
       "      <td>не спам</td>\n",
       "      <td>U dun say so early hor... U c already then say...</td>\n",
       "    </tr>\n",
       "    <tr>\n",
       "      <th>4</th>\n",
       "      <td>не спам</td>\n",
       "      <td>Nah I don't think he goes to usf, he lives aro...</td>\n",
       "    </tr>\n",
       "    <tr>\n",
       "      <th>...</th>\n",
       "      <td>...</td>\n",
       "      <td>...</td>\n",
       "    </tr>\n",
       "    <tr>\n",
       "      <th>5569</th>\n",
       "      <td>спам</td>\n",
       "      <td>This is the 2nd time we have tried 2 contact u...</td>\n",
       "    </tr>\n",
       "    <tr>\n",
       "      <th>5570</th>\n",
       "      <td>не спам</td>\n",
       "      <td>Will ü b going to esplanade fr home?</td>\n",
       "    </tr>\n",
       "    <tr>\n",
       "      <th>5571</th>\n",
       "      <td>не спам</td>\n",
       "      <td>Pity, * was in mood for that. So...any other s...</td>\n",
       "    </tr>\n",
       "    <tr>\n",
       "      <th>5572</th>\n",
       "      <td>не спам</td>\n",
       "      <td>The guy did some bitching but I acted like i'd...</td>\n",
       "    </tr>\n",
       "    <tr>\n",
       "      <th>5573</th>\n",
       "      <td>не спам</td>\n",
       "      <td>Rofl. Its true to its name</td>\n",
       "    </tr>\n",
       "  </tbody>\n",
       "</table>\n",
       "<p>5574 rows × 2 columns</p>\n",
       "</div>"
      ]
     },
     "execution_count": 62,
     "metadata": {},
     "output_type": "execute_result"
    }
   ],
   "execution_count": 62
  },
  {
   "metadata": {
    "ExecuteTime": {
     "end_time": "2024-12-26T07:24:22.330410Z",
     "start_time": "2024-12-26T07:24:22.249064Z"
    }
   },
   "cell_type": "code",
   "source": [
    "from sklearn.model_selection import train_test_split\n",
    "from sklearn.feature_extraction.text import CountVectorizer\n",
    "# Перевод меток в числовой формат\n",
    "df['label'] = df['label'].map({'не спам': 0, 'спам': 1})\n",
    "\n",
    "# Разделение данных на признаки и метки\n",
    "X = df['message']\n",
    "y = df['label']\n",
    "\n",
    "# Разделение данных на обучающую и тестовую выборки\n",
    "X_train, X_test, y_train, y_test = train_test_split(X, y, test_size=0.3, random_state=42, stratify=y)\n",
    "\n",
    "# Векторизация текста\n",
    "vectorizer = CountVectorizer()\n",
    "X_train_vec = vectorizer.fit_transform(X_train)\n",
    "X_test_vec = vectorizer.transform(X_test)"
   ],
   "id": "b53daee039cc8431",
   "outputs": [],
   "execution_count": 63
  },
  {
   "metadata": {
    "ExecuteTime": {
     "end_time": "2024-12-26T09:22:23.042631Z",
     "start_time": "2024-12-26T09:22:20.994139Z"
    }
   },
   "cell_type": "code",
   "source": [
    "from sklearn.ensemble import RandomForestClassifier, GradientBoostingClassifier\n",
    "from sklearn.svm import LinearSVC\n",
    "from sklearn.linear_model import LogisticRegression\n",
    "from sklearn.naive_bayes import MultinomialNB, BernoulliNB\n",
    "from sklearn.metrics import accuracy_score\n",
    "\n",
    "\n",
    "\n",
    "# Обучение модели Наивного Байеса\n",
    "model_Multinomial = MultinomialNB()\n",
    "model_Multinomial.fit(X_train_vec, y_train)\n",
    "# Прогнозирование\n",
    "y_pred_Multinomial = model_Multinomial.predict(X_test_vec)\n",
    "accuracy_Multinomial = accuracy_score(y_test, y_pred_Multinomial)\n",
    "\n",
    "print(f\"Точность MultinomialNB  {accuracy_Multinomial}\")\n",
    "\n",
    "model_BernoulliNB = BernoulliNB()\n",
    "model_BernoulliNB.fit(X_train_vec, y_train)\n",
    "y_pred_BernoulliNB = model_BernoulliNB.predict(X_test_vec)\n",
    "accuracy_BernoulliNB = accuracy_score(y_test, y_pred_BernoulliNB)\n",
    "print(f\"Точность BernoulliNB  {accuracy_BernoulliNB}\")\n",
    "\n",
    "# Инициализация и обучение модели Logistic Regression\n",
    "model_Logistic = LogisticRegression(solver='liblinear', random_state=42) # Добавлен solver для избежания предупреждений\n",
    "model_Logistic.fit(X_train_vec, y_train)\n",
    "\n",
    "# Прогнозирование\n",
    "y_pred_Logistic = model_Logistic.predict(X_test_vec)\n",
    "\n",
    "# Оценка точности\n",
    "accuracy_Logistic = accuracy_score(y_test, y_pred_Logistic)\n",
    "\n",
    "print(f\"Точность Logistic Regression: {accuracy_Logistic}\")\n",
    "\n",
    "model_LinearSVC = LinearSVC(random_state=42) #random_state для воспроизводимости\n",
    "model_LinearSVC.fit(X_train_vec, y_train)\n",
    "\n",
    "# Прогнозирование\n",
    "y_pred_LinearSVC = model_LinearSVC.predict(X_test_vec)\n",
    "\n",
    "# Оценка точности\n",
    "accuracy_LinearSVC = accuracy_score(y_test, y_pred_LinearSVC)\n",
    "\n",
    "print(f\"Точность LinearSVC: {accuracy_LinearSVC}\")\n",
    "\n",
    "model_RandomForest = RandomForestClassifier(random_state=42) #random_state для воспроизводимости\n",
    "model_RandomForest.fit(X_train_vec, y_train)\n",
    "\n",
    "# Прогнозирование\n",
    "y_pred_RandomForest = model_RandomForest.predict(X_test_vec)\n",
    "\n",
    "# Оценка точности\n",
    "accuracy_RandomForest = accuracy_score(y_test, y_pred_RandomForest)\n",
    "\n",
    "print(f\"Точность RandomForestClassifier: {accuracy_RandomForest}\")\n",
    "\n",
    "model_GradientBoosting = GradientBoostingClassifier(random_state=42)\n",
    "model_GradientBoosting.fit(X_train_vec, y_train)\n",
    "\n",
    "# Прогнозирование\n",
    "y_pred_GradientBoosting = model_GradientBoosting.predict(X_test_vec)\n",
    "\n",
    "# Оценка точности\n",
    "accuracy_GradientBoosting = accuracy_score(y_test, y_pred_GradientBoosting)\n",
    "\n",
    "print(f\"Точность GradientBoostingClassifier: {accuracy_GradientBoosting}\")"
   ],
   "id": "e1eb1ddd265df3c1",
   "outputs": [
    {
     "name": "stdout",
     "output_type": "stream",
     "text": [
      "Точность MultinomialNB  0.9838613269575612\n",
      "Точность BernoulliNB  0.9778840406455469\n",
      "Точность Logistic Regression: 0.9844590555887627\n",
      "Точность LinearSVC: 0.9856545128511656\n",
      "Точность RandomForestClassifier: 0.9754931261207412\n",
      "Точность GradientBoostingClassifier: 0.9778840406455469\n"
     ]
    }
   ],
   "execution_count": 78
  },
  {
   "metadata": {
    "ExecuteTime": {
     "end_time": "2024-12-26T09:20:47.913469Z",
     "start_time": "2024-12-26T09:20:47.901643Z"
    }
   },
   "cell_type": "code",
   "source": [
    "def classify_message(message, model, vectorizer):\n",
    "    message_vec = vectorizer.transform([message])\n",
    "    prediction = model.predict(message_vec)[0]\n",
    "    return 'спам' if prediction == 1 else 'не спам'\n",
    "\n",
    "example_message = \"6 chances to win деньги\"\n",
    "result = classify_message(example_message, model_LinearSVC, vectorizer)\n",
    "print(\"The message is classified as:\", result)"
   ],
   "id": "7dc84ba5a743579c",
   "outputs": [
    {
     "name": "stdout",
     "output_type": "stream",
     "text": [
      "The message is classified as: не спам\n"
     ]
    }
   ],
   "execution_count": 77
  }
 ],
 "metadata": {
  "kernelspec": {
   "display_name": "Python 3",
   "language": "python",
   "name": "python3"
  },
  "language_info": {
   "codemirror_mode": {
    "name": "ipython",
    "version": 2
   },
   "file_extension": ".py",
   "mimetype": "text/x-python",
   "name": "python",
   "nbconvert_exporter": "python",
   "pygments_lexer": "ipython2",
   "version": "2.7.6"
  }
 },
 "nbformat": 4,
 "nbformat_minor": 5
}
